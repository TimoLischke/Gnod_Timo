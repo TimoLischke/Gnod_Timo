{
 "cells": [
  {
   "cell_type": "raw",
   "id": "c75daba8-c882-45a3-ab38-144964b24a3c",
   "metadata": {},
   "source": [
    "Build the First Version of the Recommender\n",
    "Users shall input their preferred music type (e.g., Jazz Fusion), and the system shall return a song from that category.\n",
    "Additionally, if the user asks for a \"currently popular song,\" your system will recommend one from the trending songs list that you scraped earlier."
   ]
  },
  {
   "cell_type": "raw",
   "id": "181275a4-d30e-406a-92df-6491363ae1eb",
   "metadata": {},
   "source": [
    "User Song Type Selection (Basic Recommender Prototype)\n",
    "Create a program where the user can input a music type rather than a specific song.\n",
    "The user can choose from: \"High Energy\", \"Chill Vibes\", \"Rock\", \"Trending Now\", etc.\n",
    "For now, if the user selects \"Trending Now,\" return a random popular song from the Billboard Hot 100 DataFrame.\n",
    "If they select another type, simply acknowledge their selection (without returning a song yet)."
   ]
  },
  {
   "cell_type": "code",
   "execution_count": 144,
   "id": "3a934335-63e7-4f1b-9747-e5ec80b6836e",
   "metadata": {},
   "outputs": [],
   "source": [
    "# Import config file\n",
    "import config"
   ]
  },
  {
   "cell_type": "code",
   "execution_count": 165,
   "id": "13e4f3e6-d420-45e5-9782-90d492253236",
   "metadata": {},
   "outputs": [
    {
     "name": "stdout",
     "output_type": "stream",
     "text": [
      "Requirement already satisfied: fuzzywuzzy in c:\\users\\admin\\anaconda3\\lib\\site-packages (0.18.0)\n"
     ]
    }
   ],
   "source": [
    "# Import libraries\n",
    "\n",
    "import spotipy\n",
    "import pandas as pd\n",
    "import random\n",
    "import json\n",
    "from spotipy.oauth2 import SpotifyClientCredentials, SpotifyOAuth\n",
    "import pprint\n",
    "from IPython.display import IFrame\n",
    "!pip install fuzzywuzzy\n",
    "from fuzzywuzzy import fuzz\n",
    "from fuzzywuzzy import process\n",
    "import difflib"
   ]
  },
  {
   "cell_type": "code",
   "execution_count": 148,
   "id": "6e0c3ddd-819c-4d79-a0ba-a002bad0a7b9",
   "metadata": {},
   "outputs": [
    {
     "data": {
      "text/html": [
       "<div>\n",
       "<style scoped>\n",
       "    .dataframe tbody tr th:only-of-type {\n",
       "        vertical-align: middle;\n",
       "    }\n",
       "\n",
       "    .dataframe tbody tr th {\n",
       "        vertical-align: top;\n",
       "    }\n",
       "\n",
       "    .dataframe thead th {\n",
       "        text-align: right;\n",
       "    }\n",
       "</style>\n",
       "<table border=\"1\" class=\"dataframe\">\n",
       "  <thead>\n",
       "    <tr style=\"text-align: right;\">\n",
       "      <th></th>\n",
       "      <th>title</th>\n",
       "      <th>artist</th>\n",
       "      <th>rank</th>\n",
       "    </tr>\n",
       "  </thead>\n",
       "  <tbody>\n",
       "    <tr>\n",
       "      <th>0</th>\n",
       "      <td>Luther</td>\n",
       "      <td>Kendrick Lamar &amp; SZA</td>\n",
       "      <td>1</td>\n",
       "    </tr>\n",
       "    <tr>\n",
       "      <th>1</th>\n",
       "      <td>Die With A Smile</td>\n",
       "      <td>Lady Gaga &amp; Bruno Mars</td>\n",
       "      <td>2</td>\n",
       "    </tr>\n",
       "    <tr>\n",
       "      <th>2</th>\n",
       "      <td>Not Like Us</td>\n",
       "      <td>Kendrick Lamar</td>\n",
       "      <td>3</td>\n",
       "    </tr>\n",
       "    <tr>\n",
       "      <th>3</th>\n",
       "      <td>TV Off</td>\n",
       "      <td>Kendrick Lamar Featuring Lefty Gunplay</td>\n",
       "      <td>4</td>\n",
       "    </tr>\n",
       "    <tr>\n",
       "      <th>4</th>\n",
       "      <td>A Bar Song (Tipsy)</td>\n",
       "      <td>Shaboozey</td>\n",
       "      <td>5</td>\n",
       "    </tr>\n",
       "    <tr>\n",
       "      <th>...</th>\n",
       "      <td>...</td>\n",
       "      <td>...</td>\n",
       "      <td>...</td>\n",
       "    </tr>\n",
       "    <tr>\n",
       "      <th>95</th>\n",
       "      <td>No Pole</td>\n",
       "      <td>Don Toliver</td>\n",
       "      <td>96</td>\n",
       "    </tr>\n",
       "    <tr>\n",
       "      <th>96</th>\n",
       "      <td>Small Town Fame</td>\n",
       "      <td>Drake</td>\n",
       "      <td>97</td>\n",
       "    </tr>\n",
       "    <tr>\n",
       "      <th>97</th>\n",
       "      <td>Que Pasaria...</td>\n",
       "      <td>Rauw Alejandro &amp; Bad Bunny</td>\n",
       "      <td>98</td>\n",
       "    </tr>\n",
       "    <tr>\n",
       "      <th>98</th>\n",
       "      <td>Greenlight</td>\n",
       "      <td>Tate McRae</td>\n",
       "      <td>99</td>\n",
       "    </tr>\n",
       "    <tr>\n",
       "      <th>99</th>\n",
       "      <td>Weren't For The Wind</td>\n",
       "      <td>Ella Langley</td>\n",
       "      <td>100</td>\n",
       "    </tr>\n",
       "  </tbody>\n",
       "</table>\n",
       "<p>100 rows × 3 columns</p>\n",
       "</div>"
      ],
      "text/plain": [
       "                   title                                  artist  rank\n",
       "0                 Luther                    Kendrick Lamar & SZA     1\n",
       "1       Die With A Smile                  Lady Gaga & Bruno Mars     2\n",
       "2            Not Like Us                          Kendrick Lamar     3\n",
       "3                 TV Off  Kendrick Lamar Featuring Lefty Gunplay     4\n",
       "4     A Bar Song (Tipsy)                               Shaboozey     5\n",
       "..                   ...                                     ...   ...\n",
       "95               No Pole                             Don Toliver    96\n",
       "96       Small Town Fame                                   Drake    97\n",
       "97        Que Pasaria...              Rauw Alejandro & Bad Bunny    98\n",
       "98            Greenlight                              Tate McRae    99\n",
       "99  Weren't For The Wind                            Ella Langley   100\n",
       "\n",
       "[100 rows x 3 columns]"
      ]
     },
     "execution_count": 148,
     "metadata": {},
     "output_type": "execute_result"
    }
   ],
   "source": [
    "# load 100 top Billboard songs dataset \n",
    "songs_billboard = \"df_song_dict_billboard.csv\"\n",
    "df_songs_billboard = pd.read_csv(songs_billboard)\n",
    "df_songs_billboard"
   ]
  },
  {
   "cell_type": "code",
   "execution_count": 150,
   "id": "6f69528b-c62b-4435-b84f-30b0e3ec5d27",
   "metadata": {},
   "outputs": [
    {
     "data": {
      "text/plain": [
       "62    Good News\n",
       "Name: title, dtype: object"
      ]
     },
     "execution_count": 150,
     "metadata": {},
     "output_type": "execute_result"
    }
   ],
   "source": [
    "df_songs_billboard.sample()[\"title\"]"
   ]
  },
  {
   "cell_type": "code",
   "execution_count": 152,
   "id": "7d357f65-2962-42b9-910d-ba62e29b027e",
   "metadata": {},
   "outputs": [],
   "source": [
    "# Get a random song from df_songs_billboard\n",
    "\n",
    "def get_random_song(df_songs_billboard):\n",
    "    return df_songs_billboard.sample(n=1).iloc[0]"
   ]
  },
  {
   "cell_type": "code",
   "execution_count": 154,
   "id": "bb21f9f5-340b-4548-addf-5412a32548c7",
   "metadata": {},
   "outputs": [],
   "source": [
    "# Initialize SpotiPy with user credentials\n",
    "sp = spotipy.Spotify(auth_manager=SpotifyClientCredentials(client_id= config.client_id,\n",
    "                                                           client_secret= config.client_secret))"
   ]
  },
  {
   "cell_type": "code",
   "execution_count": 156,
   "id": "f63e7cd3-30b2-4f38-97e5-69bbdc8d46d7",
   "metadata": {},
   "outputs": [],
   "source": [
    "# Retrieving Track_ID for songs from Spotify\n",
    "\n",
    "def get_track_id_from_spotify(song_name, artist_name):\n",
    "    # Search for the song on Spotify\n",
    "    query = f\"{song_name} {artist_name}\"\n",
    "    results = sp.search(query, limit=1, type='track', market='US')\n",
    "    \n",
    "    if results['tracks']['items']:\n",
    "        track = results['tracks']['items'][0]\n",
    "        track_id = track['id']\n",
    "        print(f\"Track ID for '{song_name}' by {artist_name}: {track_id}\")\n",
    "        return track_id\n",
    "    else:\n",
    "        print(\"Sorry, the song was not found on Spotify.\")\n",
    "        return None"
   ]
  },
  {
   "cell_type": "raw",
   "id": "dda1d7b5-6d0b-4bd1-8e5b-28edd7c74e10",
   "metadata": {},
   "source": [
    "# Play songs from Spotify\n",
    "\n",
    "def play_song_on_spotify(song_name, artist_name):\n",
    "    # Search for the song on Spotify\n",
    "    query = f\"{song_name} {artist_name}\"\n",
    "    results = sp.search(query, limit=1, type='track', market='US')\n",
    "    \n",
    "    if results['tracks']['items']:\n",
    "        track = results['tracks']['items'][0]\n",
    "        track_url = track['external_urls']['spotify']\n",
    "        track_id = track['id']\n",
    "        \n",
    "        print(f\"Found the song! {song_name} by {artist_name}\")\n",
    "        print(f\"Playing the song on Spotify: {track_url}\")\n",
    "        \n",
    "        # Start playback of the song\n",
    "        sp.start_playback(uris=[f\"spotify:track:{track_id}\"])\n",
    "    else:\n",
    "        print(\"Sorry, the song was not found on Spotify.\")"
   ]
  },
  {
   "cell_type": "raw",
   "id": "d7c5689c-9f7e-492e-865c-e125b7358723",
   "metadata": {},
   "source": [
    "# Embedded track player\n",
    "\n",
    "IFrame(src=\"https://open.spotify.com/embed/track/\"+track_id,\n",
    "       width=\"320\",\n",
    "       height=\"80\",\n",
    "       frameborder=\"0\",\n",
    "       allowtransparency=\"true\",\n",
    "       allow=\"encrypted-media\",\n",
    "      )"
   ]
  },
  {
   "cell_type": "code",
   "execution_count": 161,
   "id": "18e8ab37-088a-4570-a176-bcedda7faaf2",
   "metadata": {},
   "outputs": [
    {
     "name": "stdout",
     "output_type": "stream",
     "text": [
      "Please select a music type:\n",
      "1. High Energy\n",
      "2. Chill Vibes\n",
      "3. Rock\n",
      "4. Trending Now\n"
     ]
    },
    {
     "name": "stdin",
     "output_type": "stream",
     "text": [
      "Enter the number corresponding to your choice:  4\n"
     ]
    },
    {
     "name": "stdout",
     "output_type": "stream",
     "text": [
      "Here is a random trending song: Please Please Please by Sabrina Carpenter\n",
      "Track ID for 'Please Please Please' by Sabrina Carpenter: 5N3hjp1WNayUPZrA8kJmJP\n"
     ]
    },
    {
     "data": {
      "text/html": [
       "\n",
       "        <iframe\n",
       "            width=\"320\"\n",
       "            height=\"80\"\n",
       "            src=\"https://open.spotify.com/embed/track/5N3hjp1WNayUPZrA8kJmJP?frameborder=0&allowtransparency=true&allow=encrypted-media\"\n",
       "            frameborder=\"0\"\n",
       "            allowfullscreen\n",
       "            \n",
       "        ></iframe>\n",
       "        "
      ],
      "text/plain": [
       "<IPython.lib.display.IFrame at 0x1e71143fe00>"
      ]
     },
     "execution_count": 161,
     "metadata": {},
     "output_type": "execute_result"
    }
   ],
   "source": [
    "# Create categories of different music types to choose from:\n",
    "\n",
    "def music_type_selection():\n",
    "    track_id = None  # Initialize track_id to avoid referencing it before assignment\n",
    "    print(\"Please select a music type:\")\n",
    "    print(\"1. High Energy\")\n",
    "    print(\"2. Chill Vibes\")\n",
    "    print(\"3. Rock\")\n",
    "    print(\"4. Trending Now\")\n",
    "\n",
    "    selection = input(\"Enter the number corresponding to your choice: \")\n",
    "\n",
    "    if selection == \"4\":\n",
    "        # Random song from df_songs_billboard for \"Trending Now\"\n",
    "        song = get_random_song(df_songs_billboard)\n",
    "        print(f\"Here is a random trending song: {song['title']} by {song['artist']}\")\n",
    "        # Play song using the embedded player:\n",
    "        track_id=get_track_id_from_spotify(song['title'], song['artist'])\n",
    "        \n",
    "    elif selection in [\"1\", \"2\", \"3\"]:\n",
    "        # Acknowledge the selection for other types\n",
    "        if selection == \"1\":\n",
    "            print(\"You selected 'High Energy'. Enjoy the beats!\")\n",
    "        elif selection == \"2\":\n",
    "            print(\"You selected 'Chill Vibes'. Relax and unwind!\")\n",
    "        elif selection == \"3\":\n",
    "            print(\"You selected 'Rock'. Let the music roll!\")\n",
    "    else:\n",
    "        print(\"Invalid selection. Please choose a valid option.\")\n",
    "\n",
    "    # Play a song according to Spotify track ID jusing the embedded player\n",
    "    def play_song(track_id):\n",
    "        if track_id:  # Only create the player if track_id is valid\n",
    "            return IFrame(src=f\"https://open.spotify.com/embed/track/{track_id}\",\n",
    "                      width=\"320\",\n",
    "                      height=\"80\",\n",
    "                      frameborder=\"0\",\n",
    "                      allowtransparency=\"true\",\n",
    "                      allow=\"encrypted-media\")\n",
    "        else:\n",
    "            print(\"Invalid track ID. Cannot play song.\")\n",
    "            return None\n",
    "\n",
    "    return play_song(track_id)\n",
    "\n",
    "# Call the function to prompt user for music selection\n",
    "music_type_selection()"
   ]
  },
  {
   "cell_type": "raw",
   "id": "6a73014e-1c38-4db8-8911-483b71ca2595",
   "metadata": {},
   "source": [
    "# String matching using difflib (fuzzywuzzy)\n",
    "choices = [\"apple\", \"banana\", \"grape\", \"orange\"]\n",
    "query = \"appl\"\n",
    "best_matches = difflib.get_close_matches(query, choices, n=3, cutoff=0.6)"
   ]
  },
  {
   "cell_type": "code",
   "execution_count": 167,
   "id": "c12af645-8f5f-46da-a26a-54e8382d4d5c",
   "metadata": {},
   "outputs": [
    {
     "name": "stdout",
     "output_type": "stream",
     "text": [
      "Please select a music type:\n",
      "1. High Energy\n",
      "2. Chill Vibes\n",
      "3. Rock\n",
      "4. Trending Now\n"
     ]
    },
    {
     "name": "stdin",
     "output_type": "stream",
     "text": [
      "Enter a music type (e.g., 'Chill Vibes'):  Trending Now\n"
     ]
    },
    {
     "name": "stdout",
     "output_type": "stream",
     "text": [
      "You selected 'Trending Now'. Enjoy the music!\n",
      "Here is a random trending song: I Know Love by Tate McRae Featauring The Kid LAROI\n",
      "Track ID for 'I Know Love' by Tate McRae Featauring The Kid LAROI: 1YHQQFtKqFSFrqL4cNvstU\n"
     ]
    },
    {
     "data": {
      "text/html": [
       "\n",
       "        <iframe\n",
       "            width=\"320\"\n",
       "            height=\"80\"\n",
       "            src=\"https://open.spotify.com/embed/track/1YHQQFtKqFSFrqL4cNvstU?frameborder=0&allowtransparency=true&allow=encrypted-media\"\n",
       "            frameborder=\"0\"\n",
       "            allowfullscreen\n",
       "            \n",
       "        ></iframe>\n",
       "        "
      ],
      "text/plain": [
       "<IPython.lib.display.IFrame at 0x1e70a875e20>"
      ]
     },
     "execution_count": 167,
     "metadata": {},
     "output_type": "execute_result"
    }
   ],
   "source": [
    "# Function to match user input with predefined options using difflib\n",
    "def get_closest_match(user_input, options):\n",
    "    # Use difflib to find close matches\n",
    "    close_matches = difflib.get_close_matches(user_input, options, n=1, cutoff=0.6)\n",
    "    return close_matches[0] if close_matches else None\n",
    "\n",
    "# Create categories of different music types to choose from:\n",
    "def music_type_selection():\n",
    "    track_id = None  # Initialize track_id to avoid referencing it before assignment\n",
    "    options = [\"High Energy\", \"Chill Vibes\", \"Rock\", \"Trending Now\"]  # List of options\n",
    "    print(\"Please select a music type:\")\n",
    "    print(\"1. High Energy\")\n",
    "    print(\"2. Chill Vibes\")\n",
    "    print(\"3. Rock\")\n",
    "    print(\"4. Trending Now\")\n",
    "\n",
    "    # Adding difflib string matching feature for music type selection\n",
    "    user_input = input(\"Enter a music type (e.g., 'Chill Vibes'): \")\n",
    "    match = get_closest_match(user_input, options)  # Find the closest match\n",
    "\n",
    "    if match:\n",
    "        print(f\"You selected '{match}'. Enjoy the music!\")\n",
    "        # Play song depending on match\n",
    "        if match == \"Trending Now\":\n",
    "            song = get_random_song(df_songs_billboard)\n",
    "            print(f\"Here is a random trending song: {song['title']} by {song['artist']}\")\n",
    "            track_id = get_track_id_from_spotify(song['title'], song['artist'])\n",
    "        elif match == \"High Energy\":\n",
    "            print(\"You selected 'High Energy'. Enjoy the beats!\")\n",
    "        elif match == \"Chill Vibes\":\n",
    "            print(\"You selected 'Chill Vibes'. Relax and unwind!\")\n",
    "        elif match == \"Rock\":\n",
    "            print(\"You selected 'Rock'. Let the music roll!\")\n",
    "    else:\n",
    "        print(\"Could not match your input to any music type.\")\n",
    "\n",
    "    # Play a song according to Spotify track ID using the embedded player\n",
    "    def play_song(track_id):\n",
    "        if track_id:  # Only create the player if track_id is valid\n",
    "            return IFrame(src=f\"https://open.spotify.com/embed/track/{track_id}\",\n",
    "                          width=\"320\",\n",
    "                          height=\"80\",\n",
    "                          frameborder=\"0\",\n",
    "                          allowtransparency=\"true\",\n",
    "                          allow=\"encrypted-media\")\n",
    "        else:\n",
    "            print(\"Invalid track ID. Cannot play song.\")\n",
    "            return None\n",
    "\n",
    "    return play_song(track_id)\n",
    "\n",
    "# Call the function to prompt user for music selection\n",
    "music_type_selection()"
   ]
  },
  {
   "cell_type": "code",
   "execution_count": null,
   "id": "05082723-a7d6-4b80-9b7a-4923f0d05c51",
   "metadata": {},
   "outputs": [],
   "source": []
  },
  {
   "cell_type": "code",
   "execution_count": null,
   "id": "8c163503-e4ed-4fdd-85ed-87ab9d88eafd",
   "metadata": {},
   "outputs": [],
   "source": []
  },
  {
   "cell_type": "code",
   "execution_count": null,
   "id": "3e98f300-71f8-45e1-ab5e-5e17737def2a",
   "metadata": {},
   "outputs": [],
   "source": []
  },
  {
   "cell_type": "code",
   "execution_count": 80,
   "id": "f94cf655-8ddc-4684-acc4-64ef66243dd0",
   "metadata": {
    "scrolled": true
   },
   "outputs": [
    {
     "data": {
      "text/plain": [
       "{'tracks': {'href': 'https://api.spotify.com/v1/search?offset=0&limit=5&query=daddy%20cool&type=track&market=GB',\n",
       "  'limit': 5,\n",
       "  'next': 'https://api.spotify.com/v1/search?offset=5&limit=5&query=daddy%20cool&type=track&market=GB',\n",
       "  'offset': 0,\n",
       "  'previous': None,\n",
       "  'total': 898,\n",
       "  'items': [{'album': {'album_type': 'album',\n",
       "     'artists': [{'external_urls': {'spotify': 'https://open.spotify.com/artist/54R6Y0I7jGUCveDTtI21nb'},\n",
       "       'href': 'https://api.spotify.com/v1/artists/54R6Y0I7jGUCveDTtI21nb',\n",
       "       'id': '54R6Y0I7jGUCveDTtI21nb',\n",
       "       'name': 'Boney M.',\n",
       "       'type': 'artist',\n",
       "       'uri': 'spotify:artist:54R6Y0I7jGUCveDTtI21nb'}],\n",
       "     'external_urls': {'spotify': 'https://open.spotify.com/album/1KQUrny9y5zGpktF6hAGd4'},\n",
       "     'href': 'https://api.spotify.com/v1/albums/1KQUrny9y5zGpktF6hAGd4',\n",
       "     'id': '1KQUrny9y5zGpktF6hAGd4',\n",
       "     'images': [{'height': 640,\n",
       "       'width': 640,\n",
       "       'url': 'https://i.scdn.co/image/ab67616d0000b273dafd1cd6e9537ec8463ea691'},\n",
       "      {'height': 300,\n",
       "       'width': 300,\n",
       "       'url': 'https://i.scdn.co/image/ab67616d00001e02dafd1cd6e9537ec8463ea691'},\n",
       "      {'height': 64,\n",
       "       'width': 64,\n",
       "       'url': 'https://i.scdn.co/image/ab67616d00004851dafd1cd6e9537ec8463ea691'}],\n",
       "     'is_playable': True,\n",
       "     'name': 'Take The Heat Off Me',\n",
       "     'release_date': '1976',\n",
       "     'release_date_precision': 'year',\n",
       "     'total_tracks': 10,\n",
       "     'type': 'album',\n",
       "     'uri': 'spotify:album:1KQUrny9y5zGpktF6hAGd4'},\n",
       "    'artists': [{'external_urls': {'spotify': 'https://open.spotify.com/artist/54R6Y0I7jGUCveDTtI21nb'},\n",
       "      'href': 'https://api.spotify.com/v1/artists/54R6Y0I7jGUCveDTtI21nb',\n",
       "      'id': '54R6Y0I7jGUCveDTtI21nb',\n",
       "      'name': 'Boney M.',\n",
       "      'type': 'artist',\n",
       "      'uri': 'spotify:artist:54R6Y0I7jGUCveDTtI21nb'}],\n",
       "    'disc_number': 1,\n",
       "    'duration_ms': 208600,\n",
       "    'explicit': False,\n",
       "    'external_ids': {'isrc': 'DEC737600002'},\n",
       "    'external_urls': {'spotify': 'https://open.spotify.com/track/3WMbD1OyfKuwWDWMNbPQ4g'},\n",
       "    'href': 'https://api.spotify.com/v1/tracks/3WMbD1OyfKuwWDWMNbPQ4g',\n",
       "    'id': '3WMbD1OyfKuwWDWMNbPQ4g',\n",
       "    'is_local': False,\n",
       "    'is_playable': True,\n",
       "    'name': 'Daddy Cool',\n",
       "    'popularity': 72,\n",
       "    'preview_url': None,\n",
       "    'track_number': 1,\n",
       "    'type': 'track',\n",
       "    'uri': 'spotify:track:3WMbD1OyfKuwWDWMNbPQ4g'},\n",
       "   {'album': {'album_type': 'compilation',\n",
       "     'artists': [{'external_urls': {'spotify': 'https://open.spotify.com/artist/54R6Y0I7jGUCveDTtI21nb'},\n",
       "       'href': 'https://api.spotify.com/v1/artists/54R6Y0I7jGUCveDTtI21nb',\n",
       "       'id': '54R6Y0I7jGUCveDTtI21nb',\n",
       "       'name': 'Boney M.',\n",
       "       'type': 'artist',\n",
       "       'uri': 'spotify:artist:54R6Y0I7jGUCveDTtI21nb'}],\n",
       "     'external_urls': {'spotify': 'https://open.spotify.com/album/155cebHEGGBqYJAXKWJw6D'},\n",
       "     'href': 'https://api.spotify.com/v1/albums/155cebHEGGBqYJAXKWJw6D',\n",
       "     'id': '155cebHEGGBqYJAXKWJw6D',\n",
       "     'images': [{'height': 640,\n",
       "       'width': 640,\n",
       "       'url': 'https://i.scdn.co/image/ab67616d0000b273d792d961638fd28f8d281947'},\n",
       "      {'height': 300,\n",
       "       'width': 300,\n",
       "       'url': 'https://i.scdn.co/image/ab67616d00001e02d792d961638fd28f8d281947'},\n",
       "      {'height': 64,\n",
       "       'width': 64,\n",
       "       'url': 'https://i.scdn.co/image/ab67616d00004851d792d961638fd28f8d281947'}],\n",
       "     'is_playable': True,\n",
       "     'name': 'Daddy Cool',\n",
       "     'release_date': '1994-03-14',\n",
       "     'release_date_precision': 'day',\n",
       "     'total_tracks': 16,\n",
       "     'type': 'album',\n",
       "     'uri': 'spotify:album:155cebHEGGBqYJAXKWJw6D'},\n",
       "    'artists': [{'external_urls': {'spotify': 'https://open.spotify.com/artist/54R6Y0I7jGUCveDTtI21nb'},\n",
       "      'href': 'https://api.spotify.com/v1/artists/54R6Y0I7jGUCveDTtI21nb',\n",
       "      'id': '54R6Y0I7jGUCveDTtI21nb',\n",
       "      'name': 'Boney M.',\n",
       "      'type': 'artist',\n",
       "      'uri': 'spotify:artist:54R6Y0I7jGUCveDTtI21nb'}],\n",
       "    'disc_number': 1,\n",
       "    'duration_ms': 206093,\n",
       "    'explicit': False,\n",
       "    'external_ids': {'isrc': 'DEC737600002'},\n",
       "    'external_urls': {'spotify': 'https://open.spotify.com/track/702Xo5V8OhlY2cQEczCT2j'},\n",
       "    'href': 'https://api.spotify.com/v1/tracks/702Xo5V8OhlY2cQEczCT2j',\n",
       "    'id': '702Xo5V8OhlY2cQEczCT2j',\n",
       "    'is_local': False,\n",
       "    'is_playable': True,\n",
       "    'name': 'Daddy Cool',\n",
       "    'popularity': 51,\n",
       "    'preview_url': None,\n",
       "    'track_number': 7,\n",
       "    'type': 'track',\n",
       "    'uri': 'spotify:track:702Xo5V8OhlY2cQEczCT2j'},\n",
       "   {'album': {'album_type': 'compilation',\n",
       "     'artists': [{'external_urls': {'spotify': 'https://open.spotify.com/artist/54R6Y0I7jGUCveDTtI21nb'},\n",
       "       'href': 'https://api.spotify.com/v1/artists/54R6Y0I7jGUCveDTtI21nb',\n",
       "       'id': '54R6Y0I7jGUCveDTtI21nb',\n",
       "       'name': 'Boney M.',\n",
       "       'type': 'artist',\n",
       "       'uri': 'spotify:artist:54R6Y0I7jGUCveDTtI21nb'}],\n",
       "     'external_urls': {'spotify': 'https://open.spotify.com/album/155cebHEGGBqYJAXKWJw6D'},\n",
       "     'href': 'https://api.spotify.com/v1/albums/155cebHEGGBqYJAXKWJw6D',\n",
       "     'id': '155cebHEGGBqYJAXKWJw6D',\n",
       "     'images': [{'height': 640,\n",
       "       'width': 640,\n",
       "       'url': 'https://i.scdn.co/image/ab67616d0000b273d792d961638fd28f8d281947'},\n",
       "      {'height': 300,\n",
       "       'width': 300,\n",
       "       'url': 'https://i.scdn.co/image/ab67616d00001e02d792d961638fd28f8d281947'},\n",
       "      {'height': 64,\n",
       "       'width': 64,\n",
       "       'url': 'https://i.scdn.co/image/ab67616d00004851d792d961638fd28f8d281947'}],\n",
       "     'is_playable': True,\n",
       "     'name': 'Daddy Cool',\n",
       "     'release_date': '1994-03-14',\n",
       "     'release_date_precision': 'day',\n",
       "     'total_tracks': 16,\n",
       "     'type': 'album',\n",
       "     'uri': 'spotify:album:155cebHEGGBqYJAXKWJw6D'},\n",
       "    'artists': [{'external_urls': {'spotify': 'https://open.spotify.com/artist/54R6Y0I7jGUCveDTtI21nb'},\n",
       "      'href': 'https://api.spotify.com/v1/artists/54R6Y0I7jGUCveDTtI21nb',\n",
       "      'id': '54R6Y0I7jGUCveDTtI21nb',\n",
       "      'name': 'Boney M.',\n",
       "      'type': 'artist',\n",
       "      'uri': 'spotify:artist:54R6Y0I7jGUCveDTtI21nb'}],\n",
       "    'disc_number': 1,\n",
       "    'duration_ms': 220666,\n",
       "    'explicit': False,\n",
       "    'external_ids': {'isrc': 'DED160000010'},\n",
       "    'external_urls': {'spotify': 'https://open.spotify.com/track/5lWSa1rmuSL6OBPOnkAqoa'},\n",
       "    'href': 'https://api.spotify.com/v1/tracks/5lWSa1rmuSL6OBPOnkAqoa',\n",
       "    'id': '5lWSa1rmuSL6OBPOnkAqoa',\n",
       "    'is_local': False,\n",
       "    'is_playable': True,\n",
       "    'name': 'Rasputin',\n",
       "    'popularity': 67,\n",
       "    'preview_url': None,\n",
       "    'track_number': 3,\n",
       "    'type': 'track',\n",
       "    'uri': 'spotify:track:5lWSa1rmuSL6OBPOnkAqoa'},\n",
       "   {'album': {'album_type': 'album',\n",
       "     'artists': [{'external_urls': {'spotify': 'https://open.spotify.com/artist/54R6Y0I7jGUCveDTtI21nb'},\n",
       "       'href': 'https://api.spotify.com/v1/artists/54R6Y0I7jGUCveDTtI21nb',\n",
       "       'id': '54R6Y0I7jGUCveDTtI21nb',\n",
       "       'name': 'Boney M.',\n",
       "       'type': 'artist',\n",
       "       'uri': 'spotify:artist:54R6Y0I7jGUCveDTtI21nb'}],\n",
       "     'external_urls': {'spotify': 'https://open.spotify.com/album/2CKPXtlwXJ38lXODJJwN9v'},\n",
       "     'href': 'https://api.spotify.com/v1/albums/2CKPXtlwXJ38lXODJJwN9v',\n",
       "     'id': '2CKPXtlwXJ38lXODJJwN9v',\n",
       "     'images': [{'height': 640,\n",
       "       'width': 640,\n",
       "       'url': 'https://i.scdn.co/image/ab67616d0000b273d48e2a695cb58a520c78581c'},\n",
       "      {'height': 300,\n",
       "       'width': 300,\n",
       "       'url': 'https://i.scdn.co/image/ab67616d00001e02d48e2a695cb58a520c78581c'},\n",
       "      {'height': 64,\n",
       "       'width': 64,\n",
       "       'url': 'https://i.scdn.co/image/ab67616d00004851d48e2a695cb58a520c78581c'}],\n",
       "     'is_playable': True,\n",
       "     'name': 'Rasputin - Lover Of The Russian Queen',\n",
       "     'release_date': '2021-05-14',\n",
       "     'release_date_precision': 'day',\n",
       "     'total_tracks': 14,\n",
       "     'type': 'album',\n",
       "     'uri': 'spotify:album:2CKPXtlwXJ38lXODJJwN9v'},\n",
       "    'artists': [{'external_urls': {'spotify': 'https://open.spotify.com/artist/54R6Y0I7jGUCveDTtI21nb'},\n",
       "      'href': 'https://api.spotify.com/v1/artists/54R6Y0I7jGUCveDTtI21nb',\n",
       "      'id': '54R6Y0I7jGUCveDTtI21nb',\n",
       "      'name': 'Boney M.',\n",
       "      'type': 'artist',\n",
       "      'uri': 'spotify:artist:54R6Y0I7jGUCveDTtI21nb'}],\n",
       "    'disc_number': 1,\n",
       "    'duration_ms': 208640,\n",
       "    'explicit': False,\n",
       "    'external_ids': {'isrc': 'DEC737600002'},\n",
       "    'external_urls': {'spotify': 'https://open.spotify.com/track/2Pdf0RyQ6z3XidS1opzZBC'},\n",
       "    'href': 'https://api.spotify.com/v1/tracks/2Pdf0RyQ6z3XidS1opzZBC',\n",
       "    'id': '2Pdf0RyQ6z3XidS1opzZBC',\n",
       "    'is_local': False,\n",
       "    'is_playable': True,\n",
       "    'name': 'Daddy Cool',\n",
       "    'popularity': 51,\n",
       "    'preview_url': None,\n",
       "    'track_number': 2,\n",
       "    'type': 'track',\n",
       "    'uri': 'spotify:track:2Pdf0RyQ6z3XidS1opzZBC'},\n",
       "   {'album': {'album_type': 'compilation',\n",
       "     'artists': [{'external_urls': {'spotify': 'https://open.spotify.com/artist/54R6Y0I7jGUCveDTtI21nb'},\n",
       "       'href': 'https://api.spotify.com/v1/artists/54R6Y0I7jGUCveDTtI21nb',\n",
       "       'id': '54R6Y0I7jGUCveDTtI21nb',\n",
       "       'name': 'Boney M.',\n",
       "       'type': 'artist',\n",
       "       'uri': 'spotify:artist:54R6Y0I7jGUCveDTtI21nb'}],\n",
       "     'external_urls': {'spotify': 'https://open.spotify.com/album/2caBGqr3kAQJmZHX8uawHD'},\n",
       "     'href': 'https://api.spotify.com/v1/albums/2caBGqr3kAQJmZHX8uawHD',\n",
       "     'id': '2caBGqr3kAQJmZHX8uawHD',\n",
       "     'images': [{'height': 640,\n",
       "       'width': 640,\n",
       "       'url': 'https://i.scdn.co/image/ab67616d0000b273759ae529f35484865514374d'},\n",
       "      {'height': 300,\n",
       "       'width': 300,\n",
       "       'url': 'https://i.scdn.co/image/ab67616d00001e02759ae529f35484865514374d'},\n",
       "      {'height': 64,\n",
       "       'width': 64,\n",
       "       'url': 'https://i.scdn.co/image/ab67616d00004851759ae529f35484865514374d'}],\n",
       "     'is_playable': True,\n",
       "     'name': 'Barbra Streisand - Boney M. goes Club',\n",
       "     'release_date': '2011-02-21',\n",
       "     'release_date_precision': 'day',\n",
       "     'total_tracks': 12,\n",
       "     'type': 'album',\n",
       "     'uri': 'spotify:album:2caBGqr3kAQJmZHX8uawHD'},\n",
       "    'artists': [{'external_urls': {'spotify': 'https://open.spotify.com/artist/54R6Y0I7jGUCveDTtI21nb'},\n",
       "      'href': 'https://api.spotify.com/v1/artists/54R6Y0I7jGUCveDTtI21nb',\n",
       "      'id': '54R6Y0I7jGUCveDTtI21nb',\n",
       "      'name': 'Boney M.',\n",
       "      'type': 'artist',\n",
       "      'uri': 'spotify:artist:54R6Y0I7jGUCveDTtI21nb'},\n",
       "     {'external_urls': {'spotify': 'https://open.spotify.com/artist/6C856eOolnYab5RFH6SngH'},\n",
       "      'href': 'https://api.spotify.com/v1/artists/6C856eOolnYab5RFH6SngH',\n",
       "      'id': '6C856eOolnYab5RFH6SngH',\n",
       "      'name': 'Nouri',\n",
       "      'type': 'artist',\n",
       "      'uri': 'spotify:artist:6C856eOolnYab5RFH6SngH'},\n",
       "     {'external_urls': {'spotify': 'https://open.spotify.com/artist/1pAmuchWLerHt0HxsCuw8d'},\n",
       "      'href': 'https://api.spotify.com/v1/artists/1pAmuchWLerHt0HxsCuw8d',\n",
       "      'id': '1pAmuchWLerHt0HxsCuw8d',\n",
       "      'name': 'Marek',\n",
       "      'type': 'artist',\n",
       "      'uri': 'spotify:artist:1pAmuchWLerHt0HxsCuw8d'}],\n",
       "    'disc_number': 1,\n",
       "    'duration_ms': 281173,\n",
       "    'explicit': False,\n",
       "    'external_ids': {'isrc': 'DED161000017'},\n",
       "    'external_urls': {'spotify': 'https://open.spotify.com/track/64ItuFOX5GL31Fgr7bcadn'},\n",
       "    'href': 'https://api.spotify.com/v1/tracks/64ItuFOX5GL31Fgr7bcadn',\n",
       "    'id': '64ItuFOX5GL31Fgr7bcadn',\n",
       "    'is_local': False,\n",
       "    'is_playable': True,\n",
       "    'name': 'Daddy Cool - Club Mix',\n",
       "    'popularity': 27,\n",
       "    'preview_url': None,\n",
       "    'track_number': 4,\n",
       "    'type': 'track',\n",
       "    'uri': 'spotify:track:64ItuFOX5GL31Fgr7bcadn'}]}}"
      ]
     },
     "execution_count": 80,
     "metadata": {},
     "output_type": "execute_result"
    }
   ],
   "source": [
    "# SpotiPy search\n",
    "results = sp.search(q=\"daddy cool\",limit=5,market=\"GB\")\n",
    "results"
   ]
  },
  {
   "cell_type": "code",
   "execution_count": 12,
   "id": "ccd9f109-1cbb-4f40-9bf5-2342d5674387",
   "metadata": {
    "scrolled": true
   },
   "outputs": [
    {
     "name": "stdout",
     "output_type": "stream",
     "text": [
      "{'tracks': {'href': 'https://api.spotify.com/v1/search?offset=0&limit=5&query=daddy%20cool&type=track&market=GB',\n",
      "            'items': [{'album': {'album_type': 'album',\n",
      "                                 'artists': [{'external_urls': {'spotify': 'https://open.spotify.com/artist/54R6Y0I7jGUCveDTtI21nb'},\n",
      "                                              'href': 'https://api.spotify.com/v1/artists/54R6Y0I7jGUCveDTtI21nb',\n",
      "                                              'id': '54R6Y0I7jGUCveDTtI21nb',\n",
      "                                              'name': 'Boney M.',\n",
      "                                              'type': 'artist',\n",
      "                                              'uri': 'spotify:artist:54R6Y0I7jGUCveDTtI21nb'}],\n",
      "                                 'external_urls': {'spotify': 'https://open.spotify.com/album/1KQUrny9y5zGpktF6hAGd4'},\n",
      "                                 'href': 'https://api.spotify.com/v1/albums/1KQUrny9y5zGpktF6hAGd4',\n",
      "                                 'id': '1KQUrny9y5zGpktF6hAGd4',\n",
      "                                 'images': [{'height': 640,\n",
      "                                             'url': 'https://i.scdn.co/image/ab67616d0000b273dafd1cd6e9537ec8463ea691',\n",
      "                                             'width': 640},\n",
      "                                            {'height': 300,\n",
      "                                             'url': 'https://i.scdn.co/image/ab67616d00001e02dafd1cd6e9537ec8463ea691',\n",
      "                                             'width': 300},\n",
      "                                            {'height': 64,\n",
      "                                             'url': 'https://i.scdn.co/image/ab67616d00004851dafd1cd6e9537ec8463ea691',\n",
      "                                             'width': 64}],\n",
      "                                 'is_playable': True,\n",
      "                                 'name': 'Take The Heat Off Me',\n",
      "                                 'release_date': '1976',\n",
      "                                 'release_date_precision': 'year',\n",
      "                                 'total_tracks': 10,\n",
      "                                 'type': 'album',\n",
      "                                 'uri': 'spotify:album:1KQUrny9y5zGpktF6hAGd4'},\n",
      "                       'artists': [{'external_urls': {'spotify': 'https://open.spotify.com/artist/54R6Y0I7jGUCveDTtI21nb'},\n",
      "                                    'href': 'https://api.spotify.com/v1/artists/54R6Y0I7jGUCveDTtI21nb',\n",
      "                                    'id': '54R6Y0I7jGUCveDTtI21nb',\n",
      "                                    'name': 'Boney M.',\n",
      "                                    'type': 'artist',\n",
      "                                    'uri': 'spotify:artist:54R6Y0I7jGUCveDTtI21nb'}],\n",
      "                       'disc_number': 1,\n",
      "                       'duration_ms': 208600,\n",
      "                       'explicit': False,\n",
      "                       'external_ids': {'isrc': 'DEC737600002'},\n",
      "                       'external_urls': {'spotify': 'https://open.spotify.com/track/3WMbD1OyfKuwWDWMNbPQ4g'},\n",
      "                       'href': 'https://api.spotify.com/v1/tracks/3WMbD1OyfKuwWDWMNbPQ4g',\n",
      "                       'id': '3WMbD1OyfKuwWDWMNbPQ4g',\n",
      "                       'is_local': False,\n",
      "                       'is_playable': True,\n",
      "                       'name': 'Daddy Cool',\n",
      "                       'popularity': 72,\n",
      "                       'preview_url': None,\n",
      "                       'track_number': 1,\n",
      "                       'type': 'track',\n",
      "                       'uri': 'spotify:track:3WMbD1OyfKuwWDWMNbPQ4g'},\n",
      "                      {'album': {'album_type': 'compilation',\n",
      "                                 'artists': [{'external_urls': {'spotify': 'https://open.spotify.com/artist/54R6Y0I7jGUCveDTtI21nb'},\n",
      "                                              'href': 'https://api.spotify.com/v1/artists/54R6Y0I7jGUCveDTtI21nb',\n",
      "                                              'id': '54R6Y0I7jGUCveDTtI21nb',\n",
      "                                              'name': 'Boney M.',\n",
      "                                              'type': 'artist',\n",
      "                                              'uri': 'spotify:artist:54R6Y0I7jGUCveDTtI21nb'}],\n",
      "                                 'external_urls': {'spotify': 'https://open.spotify.com/album/155cebHEGGBqYJAXKWJw6D'},\n",
      "                                 'href': 'https://api.spotify.com/v1/albums/155cebHEGGBqYJAXKWJw6D',\n",
      "                                 'id': '155cebHEGGBqYJAXKWJw6D',\n",
      "                                 'images': [{'height': 640,\n",
      "                                             'url': 'https://i.scdn.co/image/ab67616d0000b273d792d961638fd28f8d281947',\n",
      "                                             'width': 640},\n",
      "                                            {'height': 300,\n",
      "                                             'url': 'https://i.scdn.co/image/ab67616d00001e02d792d961638fd28f8d281947',\n",
      "                                             'width': 300},\n",
      "                                            {'height': 64,\n",
      "                                             'url': 'https://i.scdn.co/image/ab67616d00004851d792d961638fd28f8d281947',\n",
      "                                             'width': 64}],\n",
      "                                 'is_playable': True,\n",
      "                                 'name': 'Daddy Cool',\n",
      "                                 'release_date': '1994-03-14',\n",
      "                                 'release_date_precision': 'day',\n",
      "                                 'total_tracks': 16,\n",
      "                                 'type': 'album',\n",
      "                                 'uri': 'spotify:album:155cebHEGGBqYJAXKWJw6D'},\n",
      "                       'artists': [{'external_urls': {'spotify': 'https://open.spotify.com/artist/54R6Y0I7jGUCveDTtI21nb'},\n",
      "                                    'href': 'https://api.spotify.com/v1/artists/54R6Y0I7jGUCveDTtI21nb',\n",
      "                                    'id': '54R6Y0I7jGUCveDTtI21nb',\n",
      "                                    'name': 'Boney M.',\n",
      "                                    'type': 'artist',\n",
      "                                    'uri': 'spotify:artist:54R6Y0I7jGUCveDTtI21nb'}],\n",
      "                       'disc_number': 1,\n",
      "                       'duration_ms': 206093,\n",
      "                       'explicit': False,\n",
      "                       'external_ids': {'isrc': 'DEC737600002'},\n",
      "                       'external_urls': {'spotify': 'https://open.spotify.com/track/702Xo5V8OhlY2cQEczCT2j'},\n",
      "                       'href': 'https://api.spotify.com/v1/tracks/702Xo5V8OhlY2cQEczCT2j',\n",
      "                       'id': '702Xo5V8OhlY2cQEczCT2j',\n",
      "                       'is_local': False,\n",
      "                       'is_playable': True,\n",
      "                       'name': 'Daddy Cool',\n",
      "                       'popularity': 50,\n",
      "                       'preview_url': None,\n",
      "                       'track_number': 7,\n",
      "                       'type': 'track',\n",
      "                       'uri': 'spotify:track:702Xo5V8OhlY2cQEczCT2j'},\n",
      "                      {'album': {'album_type': 'compilation',\n",
      "                                 'artists': [{'external_urls': {'spotify': 'https://open.spotify.com/artist/54R6Y0I7jGUCveDTtI21nb'},\n",
      "                                              'href': 'https://api.spotify.com/v1/artists/54R6Y0I7jGUCveDTtI21nb',\n",
      "                                              'id': '54R6Y0I7jGUCveDTtI21nb',\n",
      "                                              'name': 'Boney M.',\n",
      "                                              'type': 'artist',\n",
      "                                              'uri': 'spotify:artist:54R6Y0I7jGUCveDTtI21nb'}],\n",
      "                                 'external_urls': {'spotify': 'https://open.spotify.com/album/155cebHEGGBqYJAXKWJw6D'},\n",
      "                                 'href': 'https://api.spotify.com/v1/albums/155cebHEGGBqYJAXKWJw6D',\n",
      "                                 'id': '155cebHEGGBqYJAXKWJw6D',\n",
      "                                 'images': [{'height': 640,\n",
      "                                             'url': 'https://i.scdn.co/image/ab67616d0000b273d792d961638fd28f8d281947',\n",
      "                                             'width': 640},\n",
      "                                            {'height': 300,\n",
      "                                             'url': 'https://i.scdn.co/image/ab67616d00001e02d792d961638fd28f8d281947',\n",
      "                                             'width': 300},\n",
      "                                            {'height': 64,\n",
      "                                             'url': 'https://i.scdn.co/image/ab67616d00004851d792d961638fd28f8d281947',\n",
      "                                             'width': 64}],\n",
      "                                 'is_playable': True,\n",
      "                                 'name': 'Daddy Cool',\n",
      "                                 'release_date': '1994-03-14',\n",
      "                                 'release_date_precision': 'day',\n",
      "                                 'total_tracks': 16,\n",
      "                                 'type': 'album',\n",
      "                                 'uri': 'spotify:album:155cebHEGGBqYJAXKWJw6D'},\n",
      "                       'artists': [{'external_urls': {'spotify': 'https://open.spotify.com/artist/54R6Y0I7jGUCveDTtI21nb'},\n",
      "                                    'href': 'https://api.spotify.com/v1/artists/54R6Y0I7jGUCveDTtI21nb',\n",
      "                                    'id': '54R6Y0I7jGUCveDTtI21nb',\n",
      "                                    'name': 'Boney M.',\n",
      "                                    'type': 'artist',\n",
      "                                    'uri': 'spotify:artist:54R6Y0I7jGUCveDTtI21nb'}],\n",
      "                       'disc_number': 1,\n",
      "                       'duration_ms': 220666,\n",
      "                       'explicit': False,\n",
      "                       'external_ids': {'isrc': 'DED160000010'},\n",
      "                       'external_urls': {'spotify': 'https://open.spotify.com/track/5lWSa1rmuSL6OBPOnkAqoa'},\n",
      "                       'href': 'https://api.spotify.com/v1/tracks/5lWSa1rmuSL6OBPOnkAqoa',\n",
      "                       'id': '5lWSa1rmuSL6OBPOnkAqoa',\n",
      "                       'is_local': False,\n",
      "                       'is_playable': True,\n",
      "                       'name': 'Rasputin',\n",
      "                       'popularity': 67,\n",
      "                       'preview_url': None,\n",
      "                       'track_number': 3,\n",
      "                       'type': 'track',\n",
      "                       'uri': 'spotify:track:5lWSa1rmuSL6OBPOnkAqoa'},\n",
      "                      {'album': {'album_type': 'compilation',\n",
      "                                 'artists': [{'external_urls': {'spotify': 'https://open.spotify.com/artist/54R6Y0I7jGUCveDTtI21nb'},\n",
      "                                              'href': 'https://api.spotify.com/v1/artists/54R6Y0I7jGUCveDTtI21nb',\n",
      "                                              'id': '54R6Y0I7jGUCveDTtI21nb',\n",
      "                                              'name': 'Boney M.',\n",
      "                                              'type': 'artist',\n",
      "                                              'uri': 'spotify:artist:54R6Y0I7jGUCveDTtI21nb'}],\n",
      "                                 'external_urls': {'spotify': 'https://open.spotify.com/album/2caBGqr3kAQJmZHX8uawHD'},\n",
      "                                 'href': 'https://api.spotify.com/v1/albums/2caBGqr3kAQJmZHX8uawHD',\n",
      "                                 'id': '2caBGqr3kAQJmZHX8uawHD',\n",
      "                                 'images': [{'height': 640,\n",
      "                                             'url': 'https://i.scdn.co/image/ab67616d0000b273759ae529f35484865514374d',\n",
      "                                             'width': 640},\n",
      "                                            {'height': 300,\n",
      "                                             'url': 'https://i.scdn.co/image/ab67616d00001e02759ae529f35484865514374d',\n",
      "                                             'width': 300},\n",
      "                                            {'height': 64,\n",
      "                                             'url': 'https://i.scdn.co/image/ab67616d00004851759ae529f35484865514374d',\n",
      "                                             'width': 64}],\n",
      "                                 'is_playable': True,\n",
      "                                 'name': 'Barbra Streisand - Boney M. goes '\n",
      "                                         'Club',\n",
      "                                 'release_date': '2011-02-21',\n",
      "                                 'release_date_precision': 'day',\n",
      "                                 'total_tracks': 12,\n",
      "                                 'type': 'album',\n",
      "                                 'uri': 'spotify:album:2caBGqr3kAQJmZHX8uawHD'},\n",
      "                       'artists': [{'external_urls': {'spotify': 'https://open.spotify.com/artist/54R6Y0I7jGUCveDTtI21nb'},\n",
      "                                    'href': 'https://api.spotify.com/v1/artists/54R6Y0I7jGUCveDTtI21nb',\n",
      "                                    'id': '54R6Y0I7jGUCveDTtI21nb',\n",
      "                                    'name': 'Boney M.',\n",
      "                                    'type': 'artist',\n",
      "                                    'uri': 'spotify:artist:54R6Y0I7jGUCveDTtI21nb'},\n",
      "                                   {'external_urls': {'spotify': 'https://open.spotify.com/artist/6C856eOolnYab5RFH6SngH'},\n",
      "                                    'href': 'https://api.spotify.com/v1/artists/6C856eOolnYab5RFH6SngH',\n",
      "                                    'id': '6C856eOolnYab5RFH6SngH',\n",
      "                                    'name': 'Nouri',\n",
      "                                    'type': 'artist',\n",
      "                                    'uri': 'spotify:artist:6C856eOolnYab5RFH6SngH'},\n",
      "                                   {'external_urls': {'spotify': 'https://open.spotify.com/artist/1pAmuchWLerHt0HxsCuw8d'},\n",
      "                                    'href': 'https://api.spotify.com/v1/artists/1pAmuchWLerHt0HxsCuw8d',\n",
      "                                    'id': '1pAmuchWLerHt0HxsCuw8d',\n",
      "                                    'name': 'Marek',\n",
      "                                    'type': 'artist',\n",
      "                                    'uri': 'spotify:artist:1pAmuchWLerHt0HxsCuw8d'}],\n",
      "                       'disc_number': 1,\n",
      "                       'duration_ms': 281173,\n",
      "                       'explicit': False,\n",
      "                       'external_ids': {'isrc': 'DED161000017'},\n",
      "                       'external_urls': {'spotify': 'https://open.spotify.com/track/64ItuFOX5GL31Fgr7bcadn'},\n",
      "                       'href': 'https://api.spotify.com/v1/tracks/64ItuFOX5GL31Fgr7bcadn',\n",
      "                       'id': '64ItuFOX5GL31Fgr7bcadn',\n",
      "                       'is_local': False,\n",
      "                       'is_playable': True,\n",
      "                       'name': 'Daddy Cool - Club Mix',\n",
      "                       'popularity': 27,\n",
      "                       'preview_url': None,\n",
      "                       'track_number': 4,\n",
      "                       'type': 'track',\n",
      "                       'uri': 'spotify:track:64ItuFOX5GL31Fgr7bcadn'},\n",
      "                      {'album': {'album_type': 'album',\n",
      "                                 'artists': [{'external_urls': {'spotify': 'https://open.spotify.com/artist/54R6Y0I7jGUCveDTtI21nb'},\n",
      "                                              'href': 'https://api.spotify.com/v1/artists/54R6Y0I7jGUCveDTtI21nb',\n",
      "                                              'id': '54R6Y0I7jGUCveDTtI21nb',\n",
      "                                              'name': 'Boney M.',\n",
      "                                              'type': 'artist',\n",
      "                                              'uri': 'spotify:artist:54R6Y0I7jGUCveDTtI21nb'}],\n",
      "                                 'external_urls': {'spotify': 'https://open.spotify.com/album/2CKPXtlwXJ38lXODJJwN9v'},\n",
      "                                 'href': 'https://api.spotify.com/v1/albums/2CKPXtlwXJ38lXODJJwN9v',\n",
      "                                 'id': '2CKPXtlwXJ38lXODJJwN9v',\n",
      "                                 'images': [{'height': 640,\n",
      "                                             'url': 'https://i.scdn.co/image/ab67616d0000b273d48e2a695cb58a520c78581c',\n",
      "                                             'width': 640},\n",
      "                                            {'height': 300,\n",
      "                                             'url': 'https://i.scdn.co/image/ab67616d00001e02d48e2a695cb58a520c78581c',\n",
      "                                             'width': 300},\n",
      "                                            {'height': 64,\n",
      "                                             'url': 'https://i.scdn.co/image/ab67616d00004851d48e2a695cb58a520c78581c',\n",
      "                                             'width': 64}],\n",
      "                                 'is_playable': True,\n",
      "                                 'name': 'Rasputin - Lover Of The Russian '\n",
      "                                         'Queen',\n",
      "                                 'release_date': '2021-05-14',\n",
      "                                 'release_date_precision': 'day',\n",
      "                                 'total_tracks': 14,\n",
      "                                 'type': 'album',\n",
      "                                 'uri': 'spotify:album:2CKPXtlwXJ38lXODJJwN9v'},\n",
      "                       'artists': [{'external_urls': {'spotify': 'https://open.spotify.com/artist/54R6Y0I7jGUCveDTtI21nb'},\n",
      "                                    'href': 'https://api.spotify.com/v1/artists/54R6Y0I7jGUCveDTtI21nb',\n",
      "                                    'id': '54R6Y0I7jGUCveDTtI21nb',\n",
      "                                    'name': 'Boney M.',\n",
      "                                    'type': 'artist',\n",
      "                                    'uri': 'spotify:artist:54R6Y0I7jGUCveDTtI21nb'}],\n",
      "                       'disc_number': 1,\n",
      "                       'duration_ms': 208640,\n",
      "                       'explicit': False,\n",
      "                       'external_ids': {'isrc': 'DEC737600002'},\n",
      "                       'external_urls': {'spotify': 'https://open.spotify.com/track/2Pdf0RyQ6z3XidS1opzZBC'},\n",
      "                       'href': 'https://api.spotify.com/v1/tracks/2Pdf0RyQ6z3XidS1opzZBC',\n",
      "                       'id': '2Pdf0RyQ6z3XidS1opzZBC',\n",
      "                       'is_local': False,\n",
      "                       'is_playable': True,\n",
      "                       'name': 'Daddy Cool',\n",
      "                       'popularity': 51,\n",
      "                       'preview_url': None,\n",
      "                       'track_number': 2,\n",
      "                       'type': 'track',\n",
      "                       'uri': 'spotify:track:2Pdf0RyQ6z3XidS1opzZBC'}],\n",
      "            'limit': 5,\n",
      "            'next': 'https://api.spotify.com/v1/search?offset=5&limit=5&query=daddy%20cool&type=track&market=GB',\n",
      "            'offset': 0,\n",
      "            'previous': None,\n",
      "            'total': 898}}\n"
     ]
    }
   ],
   "source": [
    "pprint.pprint(results)"
   ]
  },
  {
   "cell_type": "code",
   "execution_count": 14,
   "id": "accb5bf4-13d2-47fe-9cf5-b19a5552c295",
   "metadata": {},
   "outputs": [
    {
     "data": {
      "text/plain": [
       "5"
      ]
     },
     "execution_count": 14,
     "metadata": {},
     "output_type": "execute_result"
    }
   ],
   "source": [
    "len(results[\"tracks\"][\"items\"])"
   ]
  },
  {
   "cell_type": "code",
   "execution_count": 16,
   "id": "b89ff319-31c4-4c9e-ba44-d934f456e6da",
   "metadata": {
    "scrolled": true
   },
   "outputs": [
    {
     "data": {
      "text/plain": [
       "{'album': {'album_type': 'album',\n",
       "  'artists': [{'external_urls': {'spotify': 'https://open.spotify.com/artist/54R6Y0I7jGUCveDTtI21nb'},\n",
       "    'href': 'https://api.spotify.com/v1/artists/54R6Y0I7jGUCveDTtI21nb',\n",
       "    'id': '54R6Y0I7jGUCveDTtI21nb',\n",
       "    'name': 'Boney M.',\n",
       "    'type': 'artist',\n",
       "    'uri': 'spotify:artist:54R6Y0I7jGUCveDTtI21nb'}],\n",
       "  'external_urls': {'spotify': 'https://open.spotify.com/album/1KQUrny9y5zGpktF6hAGd4'},\n",
       "  'href': 'https://api.spotify.com/v1/albums/1KQUrny9y5zGpktF6hAGd4',\n",
       "  'id': '1KQUrny9y5zGpktF6hAGd4',\n",
       "  'images': [{'height': 640,\n",
       "    'width': 640,\n",
       "    'url': 'https://i.scdn.co/image/ab67616d0000b273dafd1cd6e9537ec8463ea691'},\n",
       "   {'height': 300,\n",
       "    'width': 300,\n",
       "    'url': 'https://i.scdn.co/image/ab67616d00001e02dafd1cd6e9537ec8463ea691'},\n",
       "   {'height': 64,\n",
       "    'width': 64,\n",
       "    'url': 'https://i.scdn.co/image/ab67616d00004851dafd1cd6e9537ec8463ea691'}],\n",
       "  'is_playable': True,\n",
       "  'name': 'Take The Heat Off Me',\n",
       "  'release_date': '1976',\n",
       "  'release_date_precision': 'year',\n",
       "  'total_tracks': 10,\n",
       "  'type': 'album',\n",
       "  'uri': 'spotify:album:1KQUrny9y5zGpktF6hAGd4'},\n",
       " 'artists': [{'external_urls': {'spotify': 'https://open.spotify.com/artist/54R6Y0I7jGUCveDTtI21nb'},\n",
       "   'href': 'https://api.spotify.com/v1/artists/54R6Y0I7jGUCveDTtI21nb',\n",
       "   'id': '54R6Y0I7jGUCveDTtI21nb',\n",
       "   'name': 'Boney M.',\n",
       "   'type': 'artist',\n",
       "   'uri': 'spotify:artist:54R6Y0I7jGUCveDTtI21nb'}],\n",
       " 'disc_number': 1,\n",
       " 'duration_ms': 208600,\n",
       " 'explicit': False,\n",
       " 'external_ids': {'isrc': 'DEC737600002'},\n",
       " 'external_urls': {'spotify': 'https://open.spotify.com/track/3WMbD1OyfKuwWDWMNbPQ4g'},\n",
       " 'href': 'https://api.spotify.com/v1/tracks/3WMbD1OyfKuwWDWMNbPQ4g',\n",
       " 'id': '3WMbD1OyfKuwWDWMNbPQ4g',\n",
       " 'is_local': False,\n",
       " 'is_playable': True,\n",
       " 'name': 'Daddy Cool',\n",
       " 'popularity': 72,\n",
       " 'preview_url': None,\n",
       " 'track_number': 1,\n",
       " 'type': 'track',\n",
       " 'uri': 'spotify:track:3WMbD1OyfKuwWDWMNbPQ4g'}"
      ]
     },
     "execution_count": 16,
     "metadata": {},
     "output_type": "execute_result"
    }
   ],
   "source": [
    "results[\"tracks\"][\"items\"][0]"
   ]
  },
  {
   "cell_type": "code",
   "execution_count": 18,
   "id": "f502de13-4c39-44c1-b996-e930858c8620",
   "metadata": {},
   "outputs": [
    {
     "name": "stdout",
     "output_type": "stream",
     "text": [
      "'3WMbD1OyfKuwWDWMNbPQ4g'\n"
     ]
    }
   ],
   "source": [
    "pprint.pprint(results[\"tracks\"][\"items\"][0][\"id\"])"
   ]
  },
  {
   "cell_type": "code",
   "execution_count": 20,
   "id": "650fdaf2-5c2b-4ce6-9ee2-b7089fd50655",
   "metadata": {},
   "outputs": [
    {
     "data": {
      "text/plain": [
       "[{'external_urls': {'spotify': 'https://open.spotify.com/artist/54R6Y0I7jGUCveDTtI21nb'},\n",
       "  'href': 'https://api.spotify.com/v1/artists/54R6Y0I7jGUCveDTtI21nb',\n",
       "  'id': '54R6Y0I7jGUCveDTtI21nb',\n",
       "  'name': 'Boney M.',\n",
       "  'type': 'artist',\n",
       "  'uri': 'spotify:artist:54R6Y0I7jGUCveDTtI21nb'}]"
      ]
     },
     "execution_count": 20,
     "metadata": {},
     "output_type": "execute_result"
    }
   ],
   "source": [
    "results[\"tracks\"][\"items\"][0][\"artists\"] # Track artists"
   ]
  },
  {
   "cell_type": "code",
   "execution_count": 22,
   "id": "ee1763e5-2881-4860-b71c-9300ab37781b",
   "metadata": {},
   "outputs": [
    {
     "data": {
      "text/plain": [
       "'3WMbD1OyfKuwWDWMNbPQ4g'"
      ]
     },
     "execution_count": 22,
     "metadata": {},
     "output_type": "execute_result"
    }
   ],
   "source": [
    "results[\"tracks\"][\"items\"][0][\"id\"] # Track ID"
   ]
  },
  {
   "cell_type": "code",
   "execution_count": 24,
   "id": "479c0050-4e57-41f0-af61-6300e95b4c29",
   "metadata": {},
   "outputs": [
    {
     "data": {
      "text/plain": [
       "'Daddy Cool'"
      ]
     },
     "execution_count": 24,
     "metadata": {},
     "output_type": "execute_result"
    }
   ],
   "source": [
    "results[\"tracks\"][\"items\"][0][\"name\"] # Track name"
   ]
  },
  {
   "cell_type": "code",
   "execution_count": 26,
   "id": "ba949da6-3e41-4fbc-9175-5692afb47562",
   "metadata": {},
   "outputs": [
    {
     "data": {
      "text/plain": [
       "72"
      ]
     },
     "execution_count": 26,
     "metadata": {},
     "output_type": "execute_result"
    }
   ],
   "source": [
    "results[\"tracks\"][\"items\"][0][\"popularity\"] # Popularity index"
   ]
  },
  {
   "cell_type": "code",
   "execution_count": 28,
   "id": "bb7386e1-a345-4755-8fb2-e27233c57607",
   "metadata": {},
   "outputs": [
    {
     "data": {
      "text/plain": [
       "'spotify:track:3WMbD1OyfKuwWDWMNbPQ4g'"
      ]
     },
     "execution_count": 28,
     "metadata": {},
     "output_type": "execute_result"
    }
   ],
   "source": [
    "results[\"tracks\"][\"items\"][0][\"uri\"] # Basically ID"
   ]
  },
  {
   "cell_type": "code",
   "execution_count": 30,
   "id": "e41a7556-e1b2-4bd2-89cc-dd3ff7f4ffec",
   "metadata": {},
   "outputs": [
    {
     "data": {
      "text/plain": [
       "'3WMbD1OyfKuwWDWMNbPQ4g'"
      ]
     },
     "execution_count": 30,
     "metadata": {},
     "output_type": "execute_result"
    }
   ],
   "source": [
    "track_id=results[\"tracks\"][\"items\"][0][\"id\"]\n",
    "track_id"
   ]
  },
  {
   "cell_type": "code",
   "execution_count": 32,
   "id": "f9e16764-0d7d-40a5-b5c8-1201d6c7ba46",
   "metadata": {},
   "outputs": [
    {
     "name": "stdout",
     "output_type": "stream",
     "text": [
      "The name of song is: 'Daddy Cool' and the id is: 3WMbD1OyfKuwWDWMNbPQ4g\n",
      "The name of song is: 'Daddy Cool' and the id is: 702Xo5V8OhlY2cQEczCT2j\n",
      "The name of song is: 'Rasputin' and the id is: 5lWSa1rmuSL6OBPOnkAqoa\n",
      "The name of song is: 'Daddy Cool - Club Mix' and the id is: 64ItuFOX5GL31Fgr7bcadn\n",
      "The name of song is: 'Daddy Cool' and the id is: 2Pdf0RyQ6z3XidS1opzZBC\n"
     ]
    }
   ],
   "source": [
    "for item in results['tracks']['items']:\n",
    "    print(\"The name of song is: '{}' and the id is: {}\".format(item['name'],item[\"id\"]))"
   ]
  },
  {
   "cell_type": "code",
   "execution_count": null,
   "id": "68eae855-0fee-4868-9a1d-8c11cd98ecdf",
   "metadata": {},
   "outputs": [],
   "source": []
  }
 ],
 "metadata": {
  "kernelspec": {
   "display_name": "Python [conda env:base] *",
   "language": "python",
   "name": "conda-base-py"
  },
  "language_info": {
   "codemirror_mode": {
    "name": "ipython",
    "version": 3
   },
   "file_extension": ".py",
   "mimetype": "text/x-python",
   "name": "python",
   "nbconvert_exporter": "python",
   "pygments_lexer": "ipython3",
   "version": "3.12.7"
  }
 },
 "nbformat": 4,
 "nbformat_minor": 5
}
